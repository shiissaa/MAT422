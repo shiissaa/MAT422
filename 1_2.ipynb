{
  "nbformat": 4,
  "nbformat_minor": 0,
  "metadata": {
    "colab": {
      "provenance": [],
      "authorship_tag": "ABX9TyM1tUr2qfBbfMN37sv1kbvP",
      "include_colab_link": true
    },
    "kernelspec": {
      "name": "python3",
      "display_name": "Python 3"
    },
    "language_info": {
      "name": "python"
    }
  },
  "cells": [
    {
      "cell_type": "markdown",
      "metadata": {
        "id": "view-in-github",
        "colab_type": "text"
      },
      "source": [
        "<a href=\"https://colab.research.google.com/github/shiissaa/MAT422/blob/main/1_2.ipynb\" target=\"_parent\"><img src=\"https://colab.research.google.com/assets/colab-badge.svg\" alt=\"Open In Colab\"/></a>"
      ]
    },
    {
      "cell_type": "markdown",
      "source": [
        "**1.2.1 Linear Spaces**\n",
        "\n",
        "Linear combination - a new vector constructed from a subset by multiplying each vector by a constant and adding the results. A linear subspace is a result of these combinations. A span is a set of linear subspaces."
      ],
      "metadata": {
        "id": "GF3h15DlM8B9"
      }
    },
    {
      "cell_type": "code",
      "source": [
        "# In this example, each vector is multiplied by a constant, resulting in x, a linear combinatoin\n",
        "a_1 = -2\n",
        "a_2 = 3\n",
        "a_3 = 4\n",
        "u_1 = 1\n",
        "u_2 = -2\n",
        "u_3 = 2\n",
        "x = a_1*u_1 + a_2*u_2 + a_3*u_3\n",
        "print(x)"
      ],
      "metadata": {
        "id": "E2FV0ObYO448",
        "colab": {
          "base_uri": "https://localhost:8080/"
        },
        "outputId": "ba19e45a-1dfc-4ee9-bc0f-e91a7d2d85de"
      },
      "execution_count": 5,
      "outputs": [
        {
          "output_type": "stream",
          "name": "stdout",
          "text": [
            "0\n"
          ]
        }
      ]
    },
    {
      "cell_type": "markdown",
      "source": [
        "Linear independence occurs when none of the vectors in a list can be written as a linear combination of the others. We can use python to calculate the determinant, and if it is not 0, then it is linearly independent."
      ],
      "metadata": {
        "id": "bIR6N-kqSr0W"
      }
    },
    {
      "cell_type": "code",
      "source": [
        "import numpy as np\n",
        "def lin_ind(v1, v2):\n",
        "  matrix = np.stack((v1, v2), axis = -1)\n",
        "  determinant = np.linalg.det(matrix)\n",
        "  if (determinant == 0):\n",
        "    print(\"Independent: No\")\n",
        "  else:\n",
        "    print(\"Independent: Yes\")\n",
        "v1 = np.array([1,2])\n",
        "v2 = np.array([4,8])\n",
        "v3 = np.array([6,4])\n",
        "lin_ind(v1, v2)\n",
        "lin_ind(v2, v3)\n",
        "lin_ind(v1, v3)"
      ],
      "metadata": {
        "colab": {
          "base_uri": "https://localhost:8080/"
        },
        "id": "Cpnj-xhuUWFm",
        "outputId": "9e8a62ed-1ab1-4452-a11c-91e00b9f8be7"
      },
      "execution_count": 10,
      "outputs": [
        {
          "output_type": "stream",
          "name": "stdout",
          "text": [
            "Independent: No\n",
            "Independent: Yes\n",
            "Independent: Yes\n"
          ]
        }
      ]
    },
    {
      "cell_type": "markdown",
      "source": [
        "**1.2.2 Orthogonality**\n",
        "\n",
        "Orthogonality and its bases can be very helpful in simplifying mathematical representations and reveal more insights. A basis is said to be orthonormal if the vectors are pairwise orthogonal and each has a norm of 1. An example of this is the identity matrix."
      ],
      "metadata": {
        "id": "kAMfODsrM8IF"
      }
    },
    {
      "cell_type": "markdown",
      "source": [
        "**1.2.3 Gran-Schmidt Process**\n",
        "\n",
        "This is an algorithm used to obtain an orthonormal basis."
      ],
      "metadata": {
        "id": "QmeGy258M8NU"
      }
    },
    {
      "cell_type": "code",
      "source": [
        "# From https://github.com/ZachDischner/gramSchmidt/blob/6be5241b7199790591f61172096594a68870859b/gramSchmidt.py\n",
        "def proj(x,u):\n",
        "    ## Can't hurt\n",
        "    u = unit_vec(u)\n",
        "    return np.dot(x,u) * u\n",
        "\n",
        "def unit_vec(x):\n",
        "    \"\"\"Get unit vector of x. Same direction, norm==1\"\"\"\n",
        "    return x/np.linalg.norm(x)\n",
        "\n",
        "def gramSchmidt(vectors):\n",
        "    \"\"\"Return orthonormalized vectors for the vector space `vectors` provided\n",
        "\n",
        "    Recursive algorithm that orthonormalizes smaller and smaller chunks of the vector space provided\n",
        "\n",
        "    Args:\n",
        "        vectors:    (list of lists or array) vector space to orthonormalize\n",
        "\n",
        "    Example:\n",
        "        From Wikipedia example\n",
        "\n",
        "        >>> gramSchmidt([[3,1],[2,2]])\n",
        "        array([[ 0.9486833 ,  0.31622777],\n",
        "               [-0.31622777,  0.9486833 ]])\n",
        "        == 1/sqrt(10) * np.array([[3,1],[-1,3]])\n",
        "    \"\"\"\n",
        "\n",
        "    ###### Ensure the input is a 2d array (or can be treated like one)\n",
        "    vectors = np.atleast_2d(vectors)\n",
        "\n",
        "    ###### Handle recursion end conditions\n",
        "    if len(vectors) == 0:\n",
        "        return []\n",
        "\n",
        "    if len(vectors) == 1:\n",
        "        return unit_vec(vectors)\n",
        "\n",
        "    u = vectors[-1]\n",
        "\n",
        "    ###### Orthonormalize the rest of the vector space\n",
        "    basis = gramSchmidt(vectors[0:-1])\n",
        "\n",
        "    ## Append this vector orthonormalized to the rest to the basis\n",
        "    w = np.atleast_2d(u - np.sum( proj(u,v)  for v in basis))\n",
        "    basis = np.append(basis,unit_vec(w),axis=0)\n",
        "\n",
        "    return basis\n",
        "\n",
        "def modifiedGramSchmidt(vectors):\n",
        "    \"\"\" _correct_ recursive implementation of Gram Schmidt algo that is not subject to\n",
        "    rounding erros that the original formulation is.\n",
        "\n",
        "    Function signature and usage is the same as gramSchmidt()\n",
        "    \"\"\"\n",
        "    ###### Ensure the input is a 2d array (or can be treated like one)\n",
        "    vectors = np.atleast_2d(vectors)\n",
        "\n",
        "    ###### Handle End Conditions\n",
        "    if len(vectors) == 0:\n",
        "        return []\n",
        "\n",
        "    ## Always just take unit vector of first vector for the start of the basis\n",
        "    u1 = unit_vec(vectors[0])\n",
        "\n",
        "    if len(vectors) == 1:\n",
        "        return u1\n",
        "\n",
        "    ###### Orthonormalize the rest of the vectors\n",
        "    #           | easy row stacking\n",
        "    #           |                                            | Get the orthagonal projection of each subsequent vector onto u1 (ensures whole space is now orthagonal to u1)\n",
        "    #                       | Recurse on the projections     |\n",
        "    basis = np.vstack( (u1, modifiedGramSchmidt( list(map(lambda v: v - proj(v,u1), vectors[1:])))) ) # not explicit list(map) conversion, need for python3+\n",
        "\n",
        "    return np.array(basis)\n",
        "\n",
        "def _is_orthag(vectors):\n",
        "    \"\"\"Simple check, sees if all of the vectors in v are orthagonal to eachother.\n",
        "\n",
        "    Takes the dot product of each vector pair, sees if the result is close to zero\n",
        "    \"\"\"\n",
        "    orthag = True\n",
        "    vectors = np.atleast_2d(vectors)\n",
        "    for vector in vectors:\n",
        "        for vector2 in vectors:\n",
        "            ## Don't dot itself\n",
        "            if np.array_equal(vector,vector2):\n",
        "                continue\n",
        "            ## Dot product alwys has some numerical precision remainder\n",
        "            if abs(np.dot(vector,vector2)) > 1e-5:\n",
        "                orthag = False\n",
        "    return orthag\n",
        "\n",
        "\n",
        "def test():\n",
        "    vectors = [[3,1],[2,2]]\n",
        "    print(\"Test 1: Finding orthonormal basis for simple vector space {}\".format(vectors))\n",
        "    ## Example vectors from https://en.wikipedia.org/wiki/Gram%E2%80%93Schmidt_process\n",
        "    ospace = gramSchmidt(vectors)\n",
        "    ospace2 = modifiedGramSchmidt(vectors)\n",
        "    ## Are the two about the same?\n",
        "    samesies = np.array_equal(ospace,ospace2)\n",
        "    print(\"\\nFor vector space provided {}\\n\\tOrthonormalized basis produced with classical Gram Schmidt process \\n{}\".format(vectors,ospace))\n",
        "    print(\"\\n\\tOrthonormal basis produced with Modified Gram Schmidt process: \\n{}, \\nAre the two about equal?? {}\".format(ospace2,samesies))\n",
        "    print(\"\\tAre all basis vectors orthagonal to eachother? {}\".format(_is_orthag(ospace)))\n",
        "\n",
        "\n",
        "    vectors = [[3,13,2,5],[1,1,2,2],[8,-1,-0.5,0],[1,-9,0,0]]\n",
        "    print(\"\\n\\nTest 2: Finding orthonormal basis for arbritrary and more complex vector space {}\".format(vectors))\n",
        "    ospace = modifiedGramSchmidt(vectors)\n",
        "    ## Are the two about the same?\n",
        "    print(\"\\tFor vector space provided \\n{}\\nOrthonormalized basis produced with modified Gram Schmidt process \\n{}\".format(vectors,ospace))\n",
        "    print(\"\\tAre all basis vectors orthagonal to eachother? {}\".format(_is_orthag(ospace)))\n",
        "\n",
        "test()"
      ],
      "metadata": {
        "id": "tuztrxqcO5JM",
        "colab": {
          "base_uri": "https://localhost:8080/"
        },
        "outputId": "b4d27f04-45db-4cb4-ec78-6b21f74848a8"
      },
      "execution_count": 18,
      "outputs": [
        {
          "output_type": "stream",
          "name": "stdout",
          "text": [
            "Test 1: Finding orthonormal basis for simple vector space [[3, 1], [2, 2]]\n",
            "\n",
            "For vector space provided [[3, 1], [2, 2]]\n",
            "\tOrthonormalized basis produced with classical Gram Schmidt process \n",
            "[[ 0.9486833   0.31622777]\n",
            " [-0.31622777  0.9486833 ]]\n",
            "\n",
            "\tOrthonormal basis produced with Modified Gram Schmidt process: \n",
            "[[ 0.9486833   0.31622777]\n",
            " [-0.31622777  0.9486833 ]], \n",
            "Are the two about equal?? True\n",
            "\tAre all basis vectors orthagonal to eachother? True\n",
            "\n",
            "\n",
            "Test 2: Finding orthonormal basis for arbritrary and more complex vector space [[3, 13, 2, 5], [1, 1, 2, 2], [8, -1, -0.5, 0], [1, -9, 0, 0]]\n",
            "\tFor vector space provided \n",
            "[[3, 13, 2, 5], [1, 1, 2, 2], [8, -1, -0.5, 0], [1, -9, 0, 0]]\n",
            "Orthonormalized basis produced with modified Gram Schmidt process \n",
            "[[ 0.20851441  0.90356246  0.13900961  0.34752402]\n",
            " [ 0.23774301 -0.37185445  0.71932501  0.53644577]\n",
            " [ 0.94667407 -0.11721351 -0.25246829 -0.16226199]\n",
            " [-0.0617106  -0.17765173 -0.63206616  0.75174732]]\n",
            "\tAre all basis vectors orthagonal to eachother? True\n"
          ]
        },
        {
          "output_type": "stream",
          "name": "stderr",
          "text": [
            "<ipython-input-18-55ad9ab0a58c>:44: DeprecationWarning: Calling np.sum(generator) is deprecated, and in the future will give a different result. Use np.sum(np.fromiter(generator)) or the python sum builtin instead.\n",
            "  w = np.atleast_2d(u - np.sum( proj(u,v)  for v in basis))\n"
          ]
        }
      ]
    },
    {
      "cell_type": "markdown",
      "source": [
        "**1.2.4 Eigenvalues and Eigenvectors**\n",
        "\n",
        "An eigenvector (or characteristic vector) is a nonzero vector that changes at most by a constant factor when that linear transformation is applied to it. The corresponding eigenvalue is the multiplying factor. The below shows a graph with two vectors, one of which is a transformation of the other after having an eigenvalue applied to it."
      ],
      "metadata": {
        "id": "yfI4jauwOtEt"
      }
    },
    {
      "cell_type": "code",
      "execution_count": 22,
      "metadata": {
        "id": "QjNTuuF3ohQT",
        "colab": {
          "base_uri": "https://localhost:8080/",
          "height": 547
        },
        "outputId": "37ef6119-6be2-4eb8-e834-5881187dade5"
      },
      "outputs": [
        {
          "output_type": "display_data",
          "data": {
            "text/plain": [
              "<Figure size 1000x600 with 1 Axes>"
            ],
            "image/png": "[encoded data removed]"
          },
          "metadata": {}
        }
      ],
      "source": [
        "import matplotlib.pyplot as plt\n",
        "plt.style.use('seaborn-v0_8')\n",
        "%matplotlib inline\n",
        "\n",
        "def plot_vect(x, b, xlim, ylim):\n",
        "    '''\n",
        "    function to plot two vectors,\n",
        "    x - the original vector\n",
        "    b - the transformed vector\n",
        "    xlim - the limit for x\n",
        "    ylim - the limit for y\n",
        "    '''\n",
        "    plt.figure(figsize = (10, 6))\n",
        "    plt.quiver(0,0,x[0],x[1],\\\n",
        "        color='k',angles='xy',\\\n",
        "        scale_units='xy',scale=1,\\\n",
        "        label='Original vector')\n",
        "    plt.quiver(0,0,b[0],b[1],\\\n",
        "        color='g',angles='xy',\\\n",
        "        scale_units='xy',scale=1,\\\n",
        "        label ='Transformed vector')\n",
        "    plt.xlim(xlim)\n",
        "    plt.ylim(ylim)\n",
        "    plt.xlabel('X')\n",
        "    plt.ylabel('Y')\n",
        "    plt.legend()\n",
        "    plt.show()\n",
        "A = np.array([[2, 0],[0, 1]])\n",
        "x = np.array([[1],[1]])\n",
        "b = np.dot(A, x)\n",
        "plot_vect(x,b,(0,3),(0,2))"
      ]
    },
    {
      "cell_type": "markdown",
      "source": [
        "Characteristic equation -\n",
        "\n",
        "From $Ax=λx$ we can get $(A-λI)x=0$.\n",
        "\n",
        "$I$ is the identity matrix with the same dimensions as $A$. If matrix $A-λI$ has an inverse, then multiply both sides with the inverse, giving us a trivial solution $x=0$. Therefore, when $A-λI$ is singular (no existing inverse), we get a nontrivial solution, which means the determinant is zero:\n",
        "\n",
        "$det(A-λI)=0$\n",
        "\n",
        "This \"characteristic equation\" will lead to a polynomial equation for λ, which can then lead to solving for eigenvalues.\n",
        "\n"
      ],
      "metadata": {
        "id": "i7GmroOAi67n"
      }
    }
  ]
}