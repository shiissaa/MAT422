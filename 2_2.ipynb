{
  "nbformat": 4,
  "nbformat_minor": 0,
  "metadata": {
    "colab": {
      "provenance": [],
      "authorship_tag": "ABX9TyMSq5+qLavEzOLlA/cUQse1",
      "include_colab_link": true
    },
    "kernelspec": {
      "name": "python3",
      "display_name": "Python 3"
    },
    "language_info": {
      "name": "python"
    }
  },
  "cells": [
    {
      "cell_type": "markdown",
      "metadata": {
        "id": "view-in-github",
        "colab_type": "text"
      },
      "source": [
        "<a href=\"https://colab.research.google.com/github/shiissaa/MAT422/blob/main/2_2.ipynb\" target=\"_parent\"><img src=\"https://colab.research.google.com/assets/colab-badge.svg\" alt=\"Open In Colab\"/></a>"
      ]
    },
    {
      "cell_type": "markdown",
      "source": [
        "**2.2 Probability Distribution**\n",
        "\n",
        "A probability distribution is the mathematical function that gives the prob-\n",
        "abilities of occurrence of different possible outcomes for an experiment. A probability distribution can be either continuous or discrete."
      ],
      "metadata": {
        "id": "M97idwhTVk4m"
      }
    },
    {
      "cell_type": "markdown",
      "source": [
        "**2.2.1 Probability Axioms**\n",
        "\n",
        "Definitions:\n",
        "\n",
        "experiment - any activity or process whose outcome is subject to uncertainty. When dealing with probability, the word experiment is used in a much wider sense than the general, more \"controlled\" sense of the word.\n",
        "\n",
        "sample space - denoted by $S$, it is the set of all possible outcomes of that experiment. We are interested in not just the individual outcomes of $S$ but also the various collections of outcomes from $S$.\n",
        "\n",
        "event - any collection of outcomes contained in the sample space of $S$. An event is considered to be simple if it consists of exactly one outcome and compound if it consists of more than one outcome.\n",
        "\n",
        "probability distribution - a function which assigns to each event $A$ a number $P(A)$ called the probability of the event, which will give a precise measure of the chance that $A$ will occur. Probability assignments should satisfy basic properties of probability."
      ],
      "metadata": {
        "id": "_VAqNfWVWmQ8"
      }
    },
    {
      "cell_type": "code",
      "source": [
        "import random\n",
        "heads, tails = 0, 0\n",
        "for i in range(1000):\n",
        "  flip = random.randint(0, 1)\n",
        "  if flip == 0:\n",
        "    heads+=1\n",
        "  else:\n",
        "    tails+=1\n",
        "print(\"Heads: \", heads, \"\\nTails: \", tails)"
      ],
      "metadata": {
        "colab": {
          "base_uri": "https://localhost:8080/"
        },
        "id": "CtL4xorh4859",
        "outputId": "40aa5524-9517-4a44-e9e0-e8994fcac0b3"
      },
      "execution_count": 15,
      "outputs": [
        {
          "output_type": "stream",
          "name": "stdout",
          "text": [
            "Heads:  503 \n",
            "Tails:  497\n"
          ]
        }
      ]
    },
    {
      "cell_type": "markdown",
      "source": [
        "**2.2.2 Conditional Probability**\n",
        "\n",
        "Conditional probability is defined as the likelihood of an event or outcome occurring, based on the occurrence of a previous event or outcome. The conditional property is expressed as a ratio of unconditional properties: the numerator is the probability of the intersection of the two events, whereas the denominator is the probability of the conditioning event $B$. Given that $B$ has occurred, the relevant sample space is no longer $S$ but consists of outcomes in $B$; $A$ has occurred if and only if one of the outcomes int he intersection occurred, so the conditional probability of $A$ given $B$ is proportional to the probability of the intersection of $A$ and $B$.\n",
        "\n",
        "For any two events $A$ and $B$ with $P(B)>0$, the conditional property of $A$ given that $B$ has occurred is defined by\n",
        "\n",
        "$P(A|B)=P(A∩B)/P(B)$\n",
        "\n",
        "$A$ and $B$ are independent events if $P(A|B)=P(A)$ or if the probability of the union of $A$ and $B$ equal $P(A) * P(B)$."
      ],
      "metadata": {
        "id": "ckhN1VQkVk_c"
      }
    },
    {
      "cell_type": "code",
      "source": [
        "# Shows that A can be indepndent or dependent on B\n",
        "A = 0.3\n",
        "B = 0.7\n",
        "c = \"{:.2f}\".format(A * B / B)\n",
        "print(c)\n",
        "A*=B\n",
        "c = \"{:.2f}\".format(A * B / B)\n",
        "print(c)"
      ],
      "metadata": {
        "colab": {
          "base_uri": "https://localhost:8080/"
        },
        "id": "v4px_Os47oFs",
        "outputId": "3af42f4f-57a9-4a04-f244-899423b7ebbc"
      },
      "execution_count": 18,
      "outputs": [
        {
          "output_type": "stream",
          "name": "stdout",
          "text": [
            "0.30\n",
            "0.21\n"
          ]
        }
      ]
    },
    {
      "cell_type": "markdown",
      "source": [
        "**2.2.3 Discrete Random Variables**\n",
        "\n",
        "Definitions:\n",
        "\n",
        "random variable - for a given sample space $S$ of some experiment, a random variable is any rule that associates a number with each outcome in $S$. It is a function whose domain is the sample space and whose range is the set of real numbers\n",
        "\n",
        "discrete random variable - a random variable whose possible values either constitute a finite set or can be listed in an infinite sequence\n",
        "\n",
        "probability mass function - a function that gives the probability that a discrete random variable is exactly equal to some value. It specifies the probability of observing that value when the experiment is performed\n",
        "\n",
        "cumulative distributive function - gives the probability that a value will take on a value less than or equal to a certain value\n",
        "\n",
        "Bernoulli random variable - any random variable whose only possible values are 0 and 1 (success and failure)\n",
        "\n",
        "Poisson distribution - a discrete probability distribution that describes the probability of a given number of events occurring in a fixed interval of time or space if these events occur with a known constant mean rate and independently of the time since the last event\n",
        "\n",
        "expected value - the expected value of a random variable is a generalization of the weighted average and is intuitively the arithmetic mean of a large number of independent realizations of said random variable"
      ],
      "metadata": {
        "id": "DX23yidqVlFs"
      }
    },
    {
      "cell_type": "markdown",
      "source": [
        "**2.2.4 Continuous Random Variables**\n",
        "\n",
        "Definitions:\n",
        "\n",
        "continuous random variable - a random variable is continuous if possible values comprise either a single interval on the number line or a union of disjoint intervals. A random variable is continuous if: (1) its set of possible values consists all numbers in a single interval on the number line, and (2) $P(X=c)=0$ for any possible value individual $c$\n",
        "\n",
        "expected value - equal to the integral ranging from negative infinity to positive infinity of $x$ multiplied by $f(x)$\n",
        "\n",
        "variance - the variance of a continuous random variable is ![Screenshot 2023-09-17 233429.png](data:image/png;base64,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)\n",
        "\n",
        "standard deviation - the square root of the variation\n",
        "\n",
        "The normal distribution - a continuous random variable is said to have a normal distribution if it looks like a bell curve, with most of the data lying in the center with fewer outliers"
      ],
      "metadata": {
        "id": "FqnqssEPVlak"
      }
    }
  ]
}